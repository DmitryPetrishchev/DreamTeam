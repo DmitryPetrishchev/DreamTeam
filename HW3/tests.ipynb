{
 "cells": [
  {
   "cell_type": "code",
   "execution_count": 1,
   "metadata": {
    "collapsed": false,
    "deletable": true,
    "editable": true
   },
   "outputs": [
    {
     "name": "stdout",
     "output_type": "stream",
     "text": [
      "Потушить сентябрь до 2007-09-21. Статус: in_progress\n",
      "Купить молоко до 2018-06-30. Статус: in_progress\n"
     ]
    }
   ],
   "source": [
    "from task import Task\n",
    "from datetime import date, timedelta\n",
    "\n",
    "task1 = Task('Потушить сентябрь', date(2007, 9, 21))\n",
    "task2 = Task('Купить молоко', date(2018, 6, 30))\n",
    "\n",
    "print(task1)\n",
    "print(task2)"
   ]
  },
  {
   "cell_type": "code",
   "execution_count": 2,
   "metadata": {
    "collapsed": false,
    "deletable": true,
    "editable": true
   },
   "outputs": [
    {
     "ename": "AttributeError",
     "evalue": "State \"failed\" doesn't exist",
     "output_type": "error",
     "traceback": [
      "\u001b[0;31m---------------------------------------------------------------------------\u001b[0m",
      "\u001b[0;31mAttributeError\u001b[0m                            Traceback (most recent call last)",
      "\u001b[0;32m<ipython-input-2-190865beb21e>\u001b[0m in \u001b[0;36m<module>\u001b[0;34m()\u001b[0m\n\u001b[1;32m      1\u001b[0m \u001b[0;31m# защита от дурака на случай попытки присвоения произвольного статуса\u001b[0m\u001b[0;34m\u001b[0m\u001b[0;34m\u001b[0m\u001b[0m\n\u001b[0;32m----> 2\u001b[0;31m \u001b[0mtask1\u001b[0m\u001b[0;34m.\u001b[0m\u001b[0mstate\u001b[0m \u001b[0;34m=\u001b[0m \u001b[0;34m'failed'\u001b[0m\u001b[0;34m\u001b[0m\u001b[0m\n\u001b[0m",
      "\u001b[0;32m/home/d503/Projects/DreamTeam/HW3/task.py\u001b[0m in \u001b[0;36mstate\u001b[0;34m(self, new_state)\u001b[0m\n\u001b[1;32m     24\u001b[0m             \u001b[0mself\u001b[0m\u001b[0;34m.\u001b[0m\u001b[0m_state\u001b[0m \u001b[0;34m=\u001b[0m \u001b[0mnew_state\u001b[0m\u001b[0;34m\u001b[0m\u001b[0m\n\u001b[1;32m     25\u001b[0m         \u001b[0;32melse\u001b[0m\u001b[0;34m:\u001b[0m\u001b[0;34m\u001b[0m\u001b[0m\n\u001b[0;32m---> 26\u001b[0;31m             \u001b[0;32mraise\u001b[0m \u001b[0mAttributeError\u001b[0m\u001b[0;34m(\u001b[0m\u001b[0;34m'State \\\"'\u001b[0m \u001b[0;34m+\u001b[0m \u001b[0mnew_state\u001b[0m \u001b[0;34m+\u001b[0m \u001b[0;34m'\\\" doesn\\'t exist'\u001b[0m\u001b[0;34m)\u001b[0m\u001b[0;34m\u001b[0m\u001b[0m\n\u001b[0m\u001b[1;32m     27\u001b[0m \u001b[0;34m\u001b[0m\u001b[0m\n\u001b[1;32m     28\u001b[0m     \u001b[0;32mdef\u001b[0m \u001b[0mready\u001b[0m\u001b[0;34m(\u001b[0m\u001b[0mself\u001b[0m\u001b[0;34m)\u001b[0m\u001b[0;34m:\u001b[0m\u001b[0;34m\u001b[0m\u001b[0m\n",
      "\u001b[0;31mAttributeError\u001b[0m: State \"failed\" doesn't exist"
     ]
    }
   ],
   "source": [
    "# защита от дурака на случай попытки присвоения произвольного статуса\n",
    "task1.state = 'failed'"
   ]
  },
  {
   "cell_type": "code",
   "execution_count": 3,
   "metadata": {
    "collapsed": false,
    "deletable": true,
    "editable": true
   },
   "outputs": [
    {
     "name": "stdout",
     "output_type": "stream",
     "text": [
      "in_progress\n",
      "ready\n",
      "-3467 days, 0:00:00\n",
      "0:00:00\n",
      "True\n",
      "False\n"
     ]
    }
   ],
   "source": [
    "# тестим ready\n",
    "task2.ready()\n",
    "print(task1.state)\n",
    "print(task2.state)\n",
    "\n",
    "# тестим remaining\n",
    "print(task1.remaining)\n",
    "print(task2.remaining)\n",
    "\n",
    "# тестим is_failed\n",
    "print(task1.is_failed)\n",
    "print(task2.is_failed)"
   ]
  },
  {
   "cell_type": "code",
   "execution_count": 4,
   "metadata": {
    "collapsed": false,
    "deletable": true,
    "editable": true
   },
   "outputs": [],
   "source": [
    "from roadmap import Roadmap\n",
    "\n",
    "road = Roadmap([task1, task2])\n",
    "road.tasks.append(Task('Create class Roadmap', date.today()))\n",
    "road.tasks.append(Task('Test class Roadmap', date.today()))"
   ]
  },
  {
   "cell_type": "code",
   "execution_count": 5,
   "metadata": {
    "collapsed": false,
    "deletable": true,
    "editable": true
   },
   "outputs": [
    {
     "name": "stdout",
     "output_type": "stream",
     "text": [
      "Потушить сентябрь до 2007-09-21. Статус: in_progress\n",
      "Купить молоко до 2018-06-30. Статус: ready\n",
      "Create class Roadmap до 2017-03-19. Статус: in_progress\n",
      "Test class Roadmap до 2017-03-19. Статус: in_progress\n",
      "\n",
      "Задания на сегодня:\n",
      "\n",
      "Create class Roadmap до 2017-03-19. Статус: in_progress\n",
      "Test class Roadmap до 2017-03-19. Статус: in_progress\n"
     ]
    }
   ],
   "source": [
    "for t in road.tasks:\n",
    "    print(t)\n",
    "\n",
    "print('\\nЗадания на сегодня:\\n')\n",
    "for t in road.today:\n",
    "    print(t)"
   ]
  },
  {
   "cell_type": "code",
   "execution_count": 6,
   "metadata": {
    "collapsed": false,
    "deletable": true,
    "editable": true
   },
   "outputs": [
    {
     "name": "stdout",
     "output_type": "stream",
     "text": [
      "Купить молоко\n",
      "Create class Roadmap\n"
     ]
    }
   ],
   "source": [
    "road.tasks[2].ready()\n",
    "\n",
    "for t in road.filter('ready'):\n",
    "    print(t.title)"
   ]
  },
  {
   "cell_type": "code",
   "execution_count": 7,
   "metadata": {
    "collapsed": false
   },
   "outputs": [
    {
     "name": "stdout",
     "output_type": "stream",
     "text": [
      "Заказать книги до 2017-03-12. Статус: ready\n",
      "Записаться на python-митап до 2017-03-25. Статус: in_progress\n",
      "Починить подтекающий кран до 2015-06-18. Статус: in_progress\n",
      "Сделать домашнее задание до 2017-04-05. Статус: in_progress\n",
      "Повесить картину до 2016-12-30. Статус: ready\n",
      "Позвонить в деканат до 2017-04-10. Статус: in_progress\n",
      "Дописать курсовую работу до 2017-06-01. Статус: in_progress\n",
      "Выбросить мусор до 2017-03-28. Статус: in_progress\n",
      "Купить билеты в Таиланд до 2017-06-04. Статус: in_progress\n",
      "Опубликовать резюме до 2017-05-24. Статус: in_progress\n"
     ]
    }
   ],
   "source": [
    "# проверка загрузки из файла\n",
    "\n",
    "import roadmap\n",
    "r = Roadmap.create_from_file('dataset.yml')\n",
    "\n",
    "for t in r.tasks:\n",
    "    print(t)"
   ]
  }
 ],
 "metadata": {
  "kernelspec": {
   "display_name": "Python 3",
   "language": "python",
   "name": "python3"
  },
  "language_info": {
   "codemirror_mode": {
    "name": "ipython",
    "version": 3
   },
   "file_extension": ".py",
   "mimetype": "text/x-python",
   "name": "python",
   "nbconvert_exporter": "python",
   "pygments_lexer": "ipython3",
   "version": "3.4.2"
  }
 },
 "nbformat": 4,
 "nbformat_minor": 2
}
