{
 "cells": [
  {
   "cell_type": "code",
   "execution_count": 1,
   "metadata": {
    "collapsed": false,
    "deletable": true,
    "editable": true
   },
   "outputs": [
    {
     "name": "stdout",
     "output_type": "stream",
     "text": [
      "Потушить сентябрь until 2007-09-21. Status: in_progress\n",
      "Жать на старт в 4:20 until 2018-06-30. Status: in_progress\n"
     ]
    }
   ],
   "source": [
    "from task import Task\n",
    "from datetime import date, timedelta\n",
    "from roadmap import Roadmap\n",
    "import roadmap\n",
    "\n",
    "task1 = Task(\"Потушить сентябрь\", date(2007, 9, 21))\n",
    "task2 = Task(\"Жать на старт в 4:20\", date(2018, 6, 30))\n",
    "\n",
    "print(task1)\n",
    "print(task2)"
   ]
  },
  {
   "cell_type": "code",
   "execution_count": 2,
   "metadata": {
    "collapsed": false,
    "deletable": true,
    "editable": true
   },
   "outputs": [
    {
     "name": "stdout",
     "output_type": "stream",
     "text": [
      "type(<class 'AttributeError'>): State 'failed' does not exist\n",
      "type(<class 'TypeError'>): Argument 'title' must have a 'string' type.\n",
      "type(<class 'TypeError'>): Argument 'estimate' must have a 'datetime.date' type.\n",
      "type(<class 'AttributeError'>): State 'Some text' does not exist\n"
     ]
    }
   ],
   "source": [
    "# защита от дурака на случай попытки присвоения произвольного статуса\n",
    "try:\n",
    "    task1.state = \"failed\"\n",
    "except AttributeError as exc:\n",
    "    print(\"type(%s)\" % type(exc) + \": \" + str(exc))\n",
    "\n",
    "# проверка конструктора на исключения\n",
    "try:\n",
    "    task = Task(123, date.today(), \"in_progress\")\n",
    "except TypeError as exc:\n",
    "    print(\"type(%s)\" % type(exc) + \": \" + str(exc))\n",
    "try:\n",
    "    task = Task(\"Some text\", 2005, \"in_progress\")\n",
    "except TypeError as exc:\n",
    "    print(\"type(%s)\" % type(exc) + \": \" + str(exc))\n",
    "try:\n",
    "    task = Task(\"Some text\", date.today(), \"Some text\")\n",
    "except AttributeError as exc:\n",
    "    print(\"type(%s)\" % type(exc) + \": \" + str(exc))\n"
   ]
  },
  {
   "cell_type": "code",
   "execution_count": 3,
   "metadata": {
    "collapsed": false,
    "deletable": true,
    "editable": true
   },
   "outputs": [
    {
     "name": "stdout",
     "output_type": "stream",
     "text": [
      "in_progress\n",
      "ready\n",
      "0:00:00\n",
      "0:00:00\n",
      "True\n",
      "False\n",
      "True\n",
      "False\n"
     ]
    }
   ],
   "source": [
    "# тестим ready\n",
    "task2.ready()\n",
    "print(task1.state)\n",
    "print(task2.state)\n",
    "\n",
    "# тестим remaining\n",
    "print(task1.remaining)\n",
    "print(task2.remaining)\n",
    "\n",
    "# тестим is_failed\n",
    "print(task1.is_failed)\n",
    "print(task2.is_failed)\n",
    "\n",
    "# тестим is_critical\n",
    "print(task1.is_critical)\n",
    "print(task2.is_critical)"
   ]
  },
  {
   "cell_type": "code",
   "execution_count": 5,
   "metadata": {
    "collapsed": false,
    "deletable": true,
    "editable": true
   },
   "outputs": [
    {
     "name": "stdout",
     "output_type": "stream",
     "text": [
      "type(<class 'TypeError'>): All items in 'tasks' must have 'Task' type.\n",
      "\n",
      "Потушить сентябрь until 2007-09-21. Status: in_progress\n",
      "Жать на старт в 4:20 until 2018-06-30. Status: ready\n",
      "Create class Roadmap until 2017-04-03. Status: in_progress\n",
      "Test class Roadmap until 2017-04-03. Status: in_progress\n",
      "\n",
      "\n",
      "Задания на сегодня:\n",
      "\n",
      "Create class Roadmap until 2017-04-03. Status: in_progress\n",
      "Test class Roadmap until 2017-04-03. Status: in_progress\n"
     ]
    }
   ],
   "source": [
    "try:\n",
    "    Roadmap([123])\n",
    "except TypeError as exc:\n",
    "    print(\"type(%s)\" % type(exc) + \": \" + str(exc) + \"\\n\")\n",
    "    \n",
    "rmp = Roadmap([task1, task2])\n",
    "rmp.tasks.append(Task(\"Create class Roadmap\", date.today()))\n",
    "rmp.tasks.append(Task(\"Test class Roadmap\", date.today()))\n",
    "\n",
    "print(rmp)\n",
    "\n",
    "print(\"\\nЗадания на сегодня:\\n\")\n",
    "for t in rmp.today:\n",
    "    print(t)"
   ]
  },
  {
   "cell_type": "code",
   "execution_count": 6,
   "metadata": {
    "collapsed": false,
    "deletable": true,
    "editable": true
   },
   "outputs": [
    {
     "name": "stdout",
     "output_type": "stream",
     "text": [
      "Жать на старт в 4:20 until 2018-06-30. Status: ready\n",
      "Create class Roadmap until 2017-04-03. Status: ready\n",
      "\n",
      "type(<class 'ValueError'>): State 'afternoon' does not exist\n"
     ]
    }
   ],
   "source": [
    "rmp.tasks[2].ready()\n",
    "\n",
    "for t in rmp.filter(\"ready\"):\n",
    "    print(t)\n",
    "\n",
    "try:\n",
    "    rmp.filter(\"afternoon\")\n",
    "except ValueError as exc:\n",
    "    print(\"\\ntype(%s)\" % type(exc) + \": \" + str(exc))"
   ]
  },
  {
   "cell_type": "code",
   "execution_count": 7,
   "metadata": {
    "collapsed": false,
    "deletable": true,
    "editable": true
   },
   "outputs": [
    {
     "name": "stdout",
     "output_type": "stream",
     "text": [
      "dataset.yml:\n",
      "Заказать книги until 2017-03-12. Status: ready\n",
      "Записаться на python-митап until 2017-03-25. Status: in_progress\n",
      "Починить подтекающий кран until 2015-06-18. Status: in_progress\n",
      "Сделать домашнее задание until 2017-04-05. Status: in_progress\n",
      "Повесить картину until 2016-12-30. Status: ready\n",
      "Позвонить в деканат until 2017-04-10. Status: in_progress\n",
      "Дописать курсовую работу until 2017-06-01. Status: in_progress\n",
      "Выбросить мусор until 2017-03-28. Status: in_progress\n",
      "Купить билеты в Таиланд until 2017-06-04. Status: in_progress\n",
      "Опубликовать резюме until 2017-05-24. Status: in_progress\n",
      "\n",
      "\n",
      "test_output.yml\n",
      "Потушить сентябрь until 2007-09-21. Status: in_progress\n",
      "Жать на старт в 4:20 until 2018-06-30. Status: ready\n",
      "Create class Roadmap until 2017-04-03. Status: ready\n",
      "Test class Roadmap until 2017-04-03. Status: in_progress\n",
      "\n"
     ]
    }
   ],
   "source": [
    "# проверка сохранения и загрузки из файла\n",
    "\n",
    "rmp.save(\"test_output.yml\")\n",
    "\n",
    "rmp = Roadmap.create_from_file(\"dataset.yml\")\n",
    "print(\"dataset.yml:\")\n",
    "print(rmp)\n",
    "\n",
    "print(\"\\ntest_output.yml\")\n",
    "rmp = Roadmap.create_from_file(\"test_output.yml\")\n",
    "print(rmp)"
   ]
  },
  {
   "cell_type": "code",
   "execution_count": 8,
   "metadata": {
    "collapsed": false,
    "deletable": true,
    "editable": true
   },
   "outputs": [
    {
     "name": "stderr",
     "output_type": "stream",
     "text": [
      "127.0.0.1 - - [03/Apr/2017 23:41:36] \"GET /?type=asdasd HTTP/1.1\" 200 175\n",
      "Traceback (most recent call last):\n",
      "  File \"/usr/lib/python3.5/wsgiref/handlers.py\", line 138, in run\n",
      "    self.finish_response()\n",
      "  File \"/usr/lib/python3.5/wsgiref/handlers.py\", line 179, in finish_response\n",
      "    for data in self.result:\n",
      "  File \"/home/dmitry/Документы/repositories/DreamTeam/HW3_4/wsgiapp.py\", line 49, in __iter__\n",
      "    for t in tasks:\n",
      "UnboundLocalError: local variable 'tasks' referenced before assignment\n",
      "127.0.0.1 - - [03/Apr/2017 23:41:36] \"GET /?type=asdasd HTTP/1.1\" 500 59\n",
      "Traceback (most recent call last):\n",
      "  File \"/usr/lib/python3.5/wsgiref/handlers.py\", line 138, in run\n",
      "    self.finish_response()\n",
      "  File \"/usr/lib/python3.5/wsgiref/handlers.py\", line 179, in finish_response\n",
      "    for data in self.result:\n",
      "  File \"/home/dmitry/Документы/repositories/DreamTeam/HW3_4/wsgiapp.py\", line 49, in __iter__\n",
      "    for t in tasks:\n",
      "UnboundLocalError: local variable 'tasks' referenced before assignment\n",
      "\n",
      "During handling of the above exception, another exception occurred:\n",
      "\n",
      "Traceback (most recent call last):\n",
      "  File \"/usr/lib/python3.5/wsgiref/handlers.py\", line 141, in run\n",
      "    self.handle_error()\n",
      "  File \"/usr/lib/python3.5/wsgiref/handlers.py\", line 368, in handle_error\n",
      "    self.finish_response()\n",
      "  File \"/usr/lib/python3.5/wsgiref/handlers.py\", line 180, in finish_response\n",
      "    self.write(data)\n",
      "  File \"/usr/lib/python3.5/wsgiref/handlers.py\", line 274, in write\n",
      "    self.send_headers()\n",
      "  File \"/usr/lib/python3.5/wsgiref/handlers.py\", line 331, in send_headers\n",
      "    if not self.origin_server or self.client_is_modern():\n",
      "  File \"/usr/lib/python3.5/wsgiref/handlers.py\", line 344, in client_is_modern\n",
      "    return self.environ['SERVER_PROTOCOL'].upper() != 'HTTP/0.9'\n",
      "TypeError: 'NoneType' object is not subscriptable\n",
      "\n",
      "During handling of the above exception, another exception occurred:\n",
      "\n",
      "Traceback (most recent call last):\n",
      "  File \"/usr/lib/python3.5/socketserver.py\", line 313, in _handle_request_noblock\n",
      "    self.process_request(request, client_address)\n",
      "  File \"/usr/lib/python3.5/socketserver.py\", line 341, in process_request\n",
      "    self.finish_request(request, client_address)\n",
      "  File \"/usr/lib/python3.5/socketserver.py\", line 354, in finish_request\n",
      "    self.RequestHandlerClass(request, client_address, self)\n",
      "  File \"/usr/lib/python3.5/socketserver.py\", line 681, in __init__\n",
      "    self.handle()\n",
      "  File \"/usr/lib/python3.5/wsgiref/simple_server.py\", line 138, in handle\n",
      "    handler.run(self.server.get_app())\n",
      "  File \"/usr/lib/python3.5/wsgiref/handlers.py\", line 144, in run\n",
      "    self.close()\n",
      "  File \"/usr/lib/python3.5/wsgiref/simple_server.py\", line 36, in close\n",
      "    self.status.split(' ',1)[0], self.bytes_sent\n",
      "AttributeError: 'NoneType' object has no attribute 'split'\n",
      "127.0.0.1 - - [03/Apr/2017 23:41:36] \"GET /favicon.ico HTTP/1.1\" 200 419\n"
     ]
    },
    {
     "name": "stdout",
     "output_type": "stream",
     "text": [
      "----------------------------------------\n",
      "Exception happened during processing of request from ('127.0.0.1', 57180)\n",
      "----------------------------------------\n"
     ]
    },
    {
     "name": "stderr",
     "output_type": "stream",
     "text": [
      "127.0.0.1 - - [03/Apr/2017 23:41:40] \"GET /?type= HTTP/1.1\" 200 419\n",
      "127.0.0.1 - - [03/Apr/2017 23:41:40] \"GET /favicon.ico HTTP/1.1\" 200 419\n",
      "127.0.0.1 - - [03/Apr/2017 23:41:43] \"GET / HTTP/1.1\" 200 419\n",
      "127.0.0.1 - - [03/Apr/2017 23:41:43] \"GET /favicon.ico HTTP/1.1\" 200 419\n"
     ]
    },
    {
     "ename": "KeyboardInterrupt",
     "evalue": "",
     "output_type": "error",
     "traceback": [
      "\u001b[0;31m---------------------------------------------------------------------------\u001b[0m",
      "\u001b[0;31mKeyboardInterrupt\u001b[0m                         Traceback (most recent call last)",
      "\u001b[0;32m<ipython-input-8-fca9df7cd6db>\u001b[0m in \u001b[0;36m<module>\u001b[0;34m()\u001b[0m\n\u001b[1;32m      7\u001b[0m \u001b[0;34m\u001b[0m\u001b[0m\n\u001b[1;32m      8\u001b[0m \u001b[0mhttp_server\u001b[0m \u001b[0;34m=\u001b[0m \u001b[0mmake_server\u001b[0m\u001b[0;34m(\u001b[0m\u001b[0;34m\"127.0.0.1\"\u001b[0m\u001b[0;34m,\u001b[0m \u001b[0;36m1234\u001b[0m\u001b[0;34m,\u001b[0m \u001b[0mWSGIApp\u001b[0m\u001b[0;34m)\u001b[0m\u001b[0;34m\u001b[0m\u001b[0m\n\u001b[0;32m----> 9\u001b[0;31m \u001b[0mhttp_server\u001b[0m\u001b[0;34m.\u001b[0m\u001b[0mserve_forever\u001b[0m\u001b[0;34m(\u001b[0m\u001b[0;34m)\u001b[0m\u001b[0;34m\u001b[0m\u001b[0m\n\u001b[0m",
      "\u001b[0;32m/usr/lib/python3.5/socketserver.py\u001b[0m in \u001b[0;36mserve_forever\u001b[0;34m(self, poll_interval)\u001b[0m\n\u001b[1;32m    230\u001b[0m \u001b[0;34m\u001b[0m\u001b[0m\n\u001b[1;32m    231\u001b[0m                 \u001b[0;32mwhile\u001b[0m \u001b[0;32mnot\u001b[0m \u001b[0mself\u001b[0m\u001b[0;34m.\u001b[0m\u001b[0m__shutdown_request\u001b[0m\u001b[0;34m:\u001b[0m\u001b[0;34m\u001b[0m\u001b[0m\n\u001b[0;32m--> 232\u001b[0;31m                     \u001b[0mready\u001b[0m \u001b[0;34m=\u001b[0m \u001b[0mselector\u001b[0m\u001b[0;34m.\u001b[0m\u001b[0mselect\u001b[0m\u001b[0;34m(\u001b[0m\u001b[0mpoll_interval\u001b[0m\u001b[0;34m)\u001b[0m\u001b[0;34m\u001b[0m\u001b[0m\n\u001b[0m\u001b[1;32m    233\u001b[0m                     \u001b[0;32mif\u001b[0m \u001b[0mready\u001b[0m\u001b[0;34m:\u001b[0m\u001b[0;34m\u001b[0m\u001b[0m\n\u001b[1;32m    234\u001b[0m                         \u001b[0mself\u001b[0m\u001b[0;34m.\u001b[0m\u001b[0m_handle_request_noblock\u001b[0m\u001b[0;34m(\u001b[0m\u001b[0;34m)\u001b[0m\u001b[0;34m\u001b[0m\u001b[0m\n",
      "\u001b[0;32m/usr/lib/python3.5/selectors.py\u001b[0m in \u001b[0;36mselect\u001b[0;34m(self, timeout)\u001b[0m\n\u001b[1;32m    374\u001b[0m             \u001b[0mready\u001b[0m \u001b[0;34m=\u001b[0m \u001b[0;34m[\u001b[0m\u001b[0;34m]\u001b[0m\u001b[0;34m\u001b[0m\u001b[0m\n\u001b[1;32m    375\u001b[0m             \u001b[0;32mtry\u001b[0m\u001b[0;34m:\u001b[0m\u001b[0;34m\u001b[0m\u001b[0m\n\u001b[0;32m--> 376\u001b[0;31m                 \u001b[0mfd_event_list\u001b[0m \u001b[0;34m=\u001b[0m \u001b[0mself\u001b[0m\u001b[0;34m.\u001b[0m\u001b[0m_poll\u001b[0m\u001b[0;34m.\u001b[0m\u001b[0mpoll\u001b[0m\u001b[0;34m(\u001b[0m\u001b[0mtimeout\u001b[0m\u001b[0;34m)\u001b[0m\u001b[0;34m\u001b[0m\u001b[0m\n\u001b[0m\u001b[1;32m    377\u001b[0m             \u001b[0;32mexcept\u001b[0m \u001b[0mInterruptedError\u001b[0m\u001b[0;34m:\u001b[0m\u001b[0;34m\u001b[0m\u001b[0m\n\u001b[1;32m    378\u001b[0m                 \u001b[0;32mreturn\u001b[0m \u001b[0mready\u001b[0m\u001b[0;34m\u001b[0m\u001b[0m\n",
      "\u001b[0;31mKeyboardInterrupt\u001b[0m: "
     ]
    }
   ],
   "source": [
    "# запуск сервера с приложением WSGIApp\n",
    "# 127.0.0.1:1234/?type=ready\n",
    "# в запросах поддерживается параметр type из {critical, ready, in_progress, failed}\n",
    "\n",
    "from wsgiapp import WSGIApp\n",
    "from wsgiref.simple_server import make_server\n",
    "\n",
    "http_server = make_server(\"127.0.0.1\", 1234, WSGIApp)\n",
    "http_server.serve_forever()"
   ]
  },
  {
   "cell_type": "code",
   "execution_count": null,
   "metadata": {
    "collapsed": true
   },
   "outputs": [],
   "source": []
  }
 ],
 "metadata": {
  "kernelspec": {
   "display_name": "Python 3",
   "language": "python",
   "name": "python3"
  },
  "language_info": {
   "codemirror_mode": {
    "name": "ipython",
    "version": 3
   },
   "file_extension": ".py",
   "mimetype": "text/x-python",
   "name": "python",
   "nbconvert_exporter": "python",
   "pygments_lexer": "ipython3",
   "version": "3.5.2"
  }
 },
 "nbformat": 4,
 "nbformat_minor": 2
}
