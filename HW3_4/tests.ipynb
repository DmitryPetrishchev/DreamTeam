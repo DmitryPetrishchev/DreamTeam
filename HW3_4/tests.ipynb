{
 "cells": [
  {
   "cell_type": "code",
   "execution_count": 1,
   "metadata": {
    "collapsed": false,
    "deletable": true,
    "editable": true
   },
   "outputs": [
    {
     "name": "stdout",
     "output_type": "stream",
     "text": [
      "Потушить сентябрь until 2007-09-21. Status: in_progress\n",
      "Жать на старт в 4:20 until 2018-06-30. Status: in_progress\n"
     ]
    }
   ],
   "source": [
    "from task import Task\n",
    "from datetime import date, timedelta\n",
    "from roadmap import Roadmap\n",
    "import roadmap\n",
    "\n",
    "task1 = Task(\"Потушить сентябрь\", date(2007, 9, 21))\n",
    "task2 = Task(\"Жать на старт в 4:20\", date(2018, 6, 30))\n",
    "\n",
    "print(task1)\n",
    "print(task2)"
   ]
  },
  {
   "cell_type": "code",
   "execution_count": 2,
   "metadata": {
    "collapsed": false,
    "deletable": true,
    "editable": true
   },
   "outputs": [
    {
     "name": "stdout",
     "output_type": "stream",
     "text": [
      "type(<class 'AttributeError'>): State 'failed' does not exist\n",
      "type(<class 'TypeError'>): Argument 'title' must have a 'string' type.\n",
      "type(<class 'TypeError'>): Argument 'estimate' must have a 'datetime.date' type.\n",
      "type(<class 'AttributeError'>): State 'Some text' does not exist\n"
     ]
    }
   ],
   "source": [
    "# защита от дурака на случай попытки присвоения произвольного статуса\n",
    "try:\n",
    "    task1.state = \"failed\"\n",
    "except AttributeError as exc:\n",
    "    print(\"type(%s)\" % type(exc) + \": \" + str(exc))\n",
    "\n",
    "# проверка конструктора на исключения\n",
    "try:\n",
    "    task = Task(123, date.today(), \"in_progress\")\n",
    "except TypeError as exc:\n",
    "    print(\"type(%s)\" % type(exc) + \": \" + str(exc))\n",
    "try:\n",
    "    task = Task(\"Some text\", 2005, \"in_progress\")\n",
    "except TypeError as exc:\n",
    "    print(\"type(%s)\" % type(exc) + \": \" + str(exc))\n",
    "try:\n",
    "    task = Task(\"Some text\", date.today(), \"Some text\")\n",
    "except AttributeError as exc:\n",
    "    print(\"type(%s)\" % type(exc) + \": \" + str(exc))\n"
   ]
  },
  {
   "cell_type": "code",
   "execution_count": 3,
   "metadata": {
    "collapsed": false,
    "deletable": true,
    "editable": true
   },
   "outputs": [
    {
     "name": "stdout",
     "output_type": "stream",
     "text": [
      "in_progress\n",
      "ready\n",
      "0:00:00\n",
      "0:00:00\n",
      "True\n",
      "False\n",
      "True\n",
      "False\n"
     ]
    }
   ],
   "source": [
    "# тестим ready\n",
    "task2.ready()\n",
    "print(task1.state)\n",
    "print(task2.state)\n",
    "\n",
    "# тестим remaining\n",
    "print(task1.remaining)\n",
    "print(task2.remaining)\n",
    "\n",
    "# тестим is_failed\n",
    "print(task1.is_failed)\n",
    "print(task2.is_failed)\n",
    "\n",
    "# тестим is_critical\n",
    "print(task1.is_critical)\n",
    "print(task2.is_critical)"
   ]
  },
  {
   "cell_type": "code",
   "execution_count": 4,
   "metadata": {
    "collapsed": false,
    "deletable": true,
    "editable": true
   },
   "outputs": [
    {
     "name": "stdout",
     "output_type": "stream",
     "text": [
      "type(<class 'TypeError'>): All items in 'tasks' must have 'Task' type.\n",
      "\n",
      "Потушить сентябрь until 2007-09-21. Status: in_progress\n",
      "Жать на старт в 4:20 until 2018-06-30. Status: ready\n",
      "Create class Roadmap until 2017-05-15. Status: in_progress\n",
      "Test class Roadmap until 2017-05-15. Status: in_progress\n",
      "\n",
      "\n",
      "Задания на сегодня:\n",
      "\n",
      "Create class Roadmap until 2017-05-15. Status: in_progress\n",
      "Test class Roadmap until 2017-05-15. Status: in_progress\n"
     ]
    }
   ],
   "source": [
    "try:\n",
    "    Roadmap([123])\n",
    "except TypeError as exc:\n",
    "    print(\"type(%s)\" % type(exc) + \": \" + str(exc) + \"\\n\")\n",
    "    \n",
    "rmp = Roadmap([task1, task2])\n",
    "rmp.tasks.append(Task(\"Create class Roadmap\", date.today()))\n",
    "rmp.tasks.append(Task(\"Test class Roadmap\", date.today()))\n",
    "\n",
    "print(rmp)\n",
    "\n",
    "print(\"\\nЗадания на сегодня:\\n\")\n",
    "for t in rmp.today:\n",
    "    print(t)"
   ]
  },
  {
   "cell_type": "code",
   "execution_count": 5,
   "metadata": {
    "collapsed": false,
    "deletable": true,
    "editable": true
   },
   "outputs": [
    {
     "name": "stdout",
     "output_type": "stream",
     "text": [
      "Жать на старт в 4:20 until 2018-06-30. Status: ready\n",
      "Create class Roadmap until 2017-05-15. Status: ready\n",
      "\n",
      "type(<class 'ValueError'>): State 'afternoon' does not exist\n"
     ]
    }
   ],
   "source": [
    "rmp.tasks[2].ready()\n",
    "\n",
    "for t in rmp.filter(\"ready\"):\n",
    "    print(t)\n",
    "\n",
    "try:\n",
    "    rmp.filter(\"afternoon\")\n",
    "except ValueError as exc:\n",
    "    print(\"\\ntype(%s)\" % type(exc) + \": \" + str(exc))"
   ]
  },
  {
   "cell_type": "code",
   "execution_count": 6,
   "metadata": {
    "collapsed": false,
    "deletable": true,
    "editable": true
   },
   "outputs": [
    {
     "name": "stdout",
     "output_type": "stream",
     "text": [
      "dataset.yml:\n",
      "Заказать книги until 2017-03-12. Status: ready\n",
      "Записаться на python-митап until 2017-03-25. Status: in_progress\n",
      "Починить подтекающий кран until 2015-06-18. Status: in_progress\n",
      "Сделать домашнее задание until 2017-04-05. Status: in_progress\n",
      "Повесить картину until 2016-12-30. Status: ready\n",
      "Позвонить в деканат until 2017-04-10. Status: in_progress\n",
      "Дописать курсовую работу until 2017-06-01. Status: in_progress\n",
      "Выбросить мусор until 2017-03-28. Status: in_progress\n",
      "Купить билеты в Таиланд until 2017-06-04. Status: in_progress\n",
      "Опубликовать резюме until 2017-05-24. Status: in_progress\n",
      "\n",
      "\n",
      "test_output.yml\n",
      "Потушить сентябрь until 2007-09-21. Status: in_progress\n",
      "Жать на старт в 4:20 until 2018-06-30. Status: ready\n",
      "Create class Roadmap until 2017-05-15. Status: ready\n",
      "Test class Roadmap until 2017-05-15. Status: in_progress\n",
      "\n"
     ]
    }
   ],
   "source": [
    "# проверка сохранения и загрузки из файла\n",
    "\n",
    "rmp.save(\"test_output.yml\")\n",
    "\n",
    "rmp = Roadmap.create_from_file(\"dataset.yml\")\n",
    "print(\"dataset.yml:\")\n",
    "print(rmp)\n",
    "\n",
    "print(\"\\ntest_output.yml\")\n",
    "rmp = Roadmap.create_from_file(\"test_output.yml\")\n",
    "print(rmp)"
   ]
  },
  {
   "cell_type": "code",
   "execution_count": null,
   "metadata": {
    "collapsed": false,
    "deletable": true,
    "editable": true
   },
   "outputs": [
    {
     "name": "stderr",
     "output_type": "stream",
     "text": [
      "127.0.0.1 - - [15/May/2017 19:13:12] \"GET /?type=in_progress HTTP/1.1\" 200 769\n",
      "127.0.0.1 - - [15/May/2017 19:13:12] \"GET /favicon.ico HTTP/1.1\" 200 504\n",
      "127.0.0.1 - - [15/May/2017 19:13:17] \"GET /?type= HTTP/1.1\" 200 504\n",
      "127.0.0.1 - - [15/May/2017 19:13:17] \"GET /favicon.ico HTTP/1.1\" 200 504\n",
      "127.0.0.1 - - [15/May/2017 19:13:21] \"GET /? HTTP/1.1\" 200 504\n",
      "127.0.0.1 - - [15/May/2017 19:13:22] \"GET /favicon.ico HTTP/1.1\" 200 504\n",
      "127.0.0.1 - - [15/May/2017 19:13:25] \"GET / HTTP/1.1\" 200 504\n",
      "127.0.0.1 - - [15/May/2017 19:13:25] \"GET /favicon.ico HTTP/1.1\" 200 504\n"
     ]
    }
   ],
   "source": [
    "# запуск сервера с приложением WSGIApp\n",
    "# 127.0.0.1:1234/?type=ready\n",
    "# в запросах поддерживается параметр type из {critical, ready, in_progress, failed}\n",
    "\n",
    "from wsgiapp import WSGIApp\n",
    "from wsgiref.simple_server import make_server\n",
    "\n",
    "http_server = make_server(\"127.0.0.1\", 1234, WSGIApp)\n",
    "http_server.serve_forever()"
   ]
  },
  {
   "cell_type": "code",
   "execution_count": null,
   "metadata": {
    "collapsed": true,
    "deletable": true,
    "editable": true
   },
   "outputs": [],
   "source": []
  }
 ],
 "metadata": {
  "kernelspec": {
   "display_name": "Python 3",
   "language": "python",
   "name": "python3"
  },
  "language_info": {
   "codemirror_mode": {
    "name": "ipython",
    "version": 3
   },
   "file_extension": ".py",
   "mimetype": "text/x-python",
   "name": "python",
   "nbconvert_exporter": "python",
   "pygments_lexer": "ipython3",
   "version": "3.5.2"
  }
 },
 "nbformat": 4,
 "nbformat_minor": 2
}
