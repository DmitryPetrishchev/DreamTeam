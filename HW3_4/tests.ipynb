{
 "cells": [
  {
   "cell_type": "code",
   "execution_count": 1,
   "metadata": {
    "collapsed": false,
    "deletable": true,
    "editable": true
   },
   "outputs": [
    {
     "name": "stdout",
     "output_type": "stream",
     "text": [
      "Потушить сентябрь until 2007-09-21. Status: in_progress\n",
      "Купить молоко until 2018-06-30. Status: in_progress\n"
     ]
    }
   ],
   "source": [
    "from task import Task\n",
    "from datetime import date, timedelta\n",
    "\n",
    "task1 = Task('Потушить сентябрь', date(2007, 9, 21))\n",
    "task2 = Task('Купить молоко', date(2018, 6, 30))\n",
    "\n",
    "print(task1)\n",
    "print(task2)"
   ]
  },
  {
   "cell_type": "code",
   "execution_count": 2,
   "metadata": {
    "collapsed": false,
    "deletable": true,
    "editable": true
   },
   "outputs": [
    {
     "ename": "AttributeError",
     "evalue": "State 'failed' does not exist",
     "output_type": "error",
     "traceback": [
      "\u001b[0;31m---------------------------------------------------------------------------\u001b[0m",
      "\u001b[0;31mAttributeError\u001b[0m                            Traceback (most recent call last)",
      "\u001b[0;32m<ipython-input-2-190865beb21e>\u001b[0m in \u001b[0;36m<module>\u001b[0;34m()\u001b[0m\n\u001b[1;32m      1\u001b[0m \u001b[0;31m# защита от дурака на случай попытки присвоения произвольного статуса\u001b[0m\u001b[0;34m\u001b[0m\u001b[0;34m\u001b[0m\u001b[0m\n\u001b[0;32m----> 2\u001b[0;31m \u001b[0mtask1\u001b[0m\u001b[0;34m.\u001b[0m\u001b[0mstate\u001b[0m \u001b[0;34m=\u001b[0m \u001b[0;34m'failed'\u001b[0m\u001b[0;34m\u001b[0m\u001b[0m\n\u001b[0m",
      "\u001b[0;32m/home/dmitry/Документы/repositories/DreamTeam/HW3-4/task.py\u001b[0m in \u001b[0;36mstate\u001b[0;34m(self, value)\u001b[0m\n\u001b[1;32m     30\u001b[0m             \u001b[0mself\u001b[0m\u001b[0;34m.\u001b[0m\u001b[0m_state\u001b[0m \u001b[0;34m=\u001b[0m \u001b[0mvalue\u001b[0m\u001b[0;34m\u001b[0m\u001b[0m\n\u001b[1;32m     31\u001b[0m         \u001b[0;32melse\u001b[0m\u001b[0;34m:\u001b[0m\u001b[0;34m\u001b[0m\u001b[0m\n\u001b[0;32m---> 32\u001b[0;31m             \u001b[0;32mraise\u001b[0m \u001b[0mAttributeError\u001b[0m\u001b[0;34m(\u001b[0m\u001b[0;34m\"State '%s' does not exist\"\u001b[0m \u001b[0;34m%\u001b[0m \u001b[0mvalue\u001b[0m\u001b[0;34m)\u001b[0m\u001b[0;34m\u001b[0m\u001b[0m\n\u001b[0m\u001b[1;32m     33\u001b[0m \u001b[0;34m\u001b[0m\u001b[0m\n\u001b[1;32m     34\u001b[0m     \u001b[0;32mdef\u001b[0m \u001b[0mready\u001b[0m\u001b[0;34m(\u001b[0m\u001b[0mself\u001b[0m\u001b[0;34m)\u001b[0m\u001b[0;34m:\u001b[0m\u001b[0;34m\u001b[0m\u001b[0m\n",
      "\u001b[0;31mAttributeError\u001b[0m: State 'failed' does not exist"
     ]
    }
   ],
   "source": [
    "# защита от дурака на случай попытки присвоения произвольного статуса\n",
    "task1.state = 'failed'"
   ]
  },
  {
   "cell_type": "code",
   "execution_count": 3,
   "metadata": {
    "collapsed": false,
    "deletable": true,
    "editable": true
   },
   "outputs": [
    {
     "name": "stdout",
     "output_type": "stream",
     "text": [
      "in_progress\n",
      "ready\n",
      "-3473 days, 0:00:00\n",
      "0:00:00\n",
      "True\n",
      "False\n"
     ]
    }
   ],
   "source": [
    "# тестим ready\n",
    "task2.ready()\n",
    "print(task1.state)\n",
    "print(task2.state)\n",
    "\n",
    "# тестим remaining\n",
    "print(task1.remaining)\n",
    "print(task2.remaining)\n",
    "\n",
    "# тестим is_failed\n",
    "print(task1.is_failed)\n",
    "print(task2.is_failed)"
   ]
  },
  {
   "cell_type": "code",
   "execution_count": 4,
   "metadata": {
    "collapsed": false,
    "deletable": true,
    "editable": true
   },
   "outputs": [],
   "source": [
    "from roadmap import Roadmap\n",
    "\n",
    "road = Roadmap([task1, task2])\n",
    "road.tasks.append(Task('Create class Roadmap', date.today()))\n",
    "road.tasks.append(Task('Test class Roadmap', date.today()))"
   ]
  },
  {
   "cell_type": "code",
   "execution_count": 5,
   "metadata": {
    "collapsed": false,
    "deletable": true,
    "editable": true
   },
   "outputs": [
    {
     "name": "stdout",
     "output_type": "stream",
     "text": [
      "Потушить сентябрь until 2007-09-21. Status: in_progress\n",
      "Купить молоко until 2018-06-30. Status: ready\n",
      "Create class Roadmap until 2017-03-25. Status: in_progress\n",
      "Test class Roadmap until 2017-03-25. Status: in_progress\n",
      "\n",
      "Задания на сегодня:\n",
      "\n",
      "Create class Roadmap until 2017-03-25. Status: in_progress\n",
      "Test class Roadmap until 2017-03-25. Status: in_progress\n"
     ]
    }
   ],
   "source": [
    "for t in road.tasks:\n",
    "    print(t)\n",
    "\n",
    "print('\\nЗадания на сегодня:\\n')\n",
    "for t in road.today:\n",
    "    print(t)"
   ]
  },
  {
   "cell_type": "code",
   "execution_count": 6,
   "metadata": {
    "collapsed": false,
    "deletable": true,
    "editable": true
   },
   "outputs": [
    {
     "name": "stdout",
     "output_type": "stream",
     "text": [
      "Купить молоко\n",
      "Create class Roadmap\n"
     ]
    }
   ],
   "source": [
    "road.tasks[2].ready()\n",
    "\n",
    "for t in road.filter('ready'):\n",
    "    print(t.title)"
   ]
  },
  {
   "cell_type": "code",
   "execution_count": 7,
   "metadata": {
    "collapsed": false,
    "deletable": true,
    "editable": true
   },
   "outputs": [
    {
     "name": "stdout",
     "output_type": "stream",
     "text": [
      "Заказать книги until 2017-03-12. Status: ready\n",
      "Записаться на python-митап until 2017-03-25. Status: in_progress\n",
      "Починить подтекающий кран until 2015-06-18. Status: in_progress\n",
      "Сделать домашнее задание until 2017-04-05. Status: in_progress\n",
      "Повесить картину until 2016-12-30. Status: ready\n",
      "Позвонить в деканат until 2017-04-10. Status: in_progress\n",
      "Дописать курсовую работу until 2017-06-01. Status: in_progress\n",
      "Выбросить мусор until 2017-03-28. Status: in_progress\n",
      "Купить билеты в Таиланд until 2017-06-04. Status: in_progress\n",
      "Опубликовать резюме until 2017-05-24. Status: in_progress\n"
     ]
    }
   ],
   "source": [
    "# проверка загрузки из файла\n",
    "\n",
    "import roadmap\n",
    "r = Roadmap.create_from_file('dataset.yml')\n",
    "\n",
    "for t in r.tasks:\n",
    "    print(t)"
   ]
  },
  {
   "cell_type": "code",
   "execution_count": null,
   "metadata": {
    "collapsed": false,
    "deletable": true,
    "editable": true
   },
   "outputs": [
    {
     "name": "stderr",
     "output_type": "stream",
     "text": [
      "127.0.0.1 - - [25/Mar/2017 21:54:48] \"GET /?type=in_progress HTTP/1.1\" 200 769\n",
      "127.0.0.1 - - [25/Mar/2017 21:54:48] \"GET /favicon.ico HTTP/1.1\" 200 246\n"
     ]
    }
   ],
   "source": [
    "# запуск сервера с приложением WSGIApp\n",
    "# 127.0.0.1:1234/?type=ready\n",
    "# в запросах поддерживается параметр type из {critic, ready, in_progress, failed}\n",
    "\n",
    "from wsgiapp import WSGIApp\n",
    "from wsgiref.simple_server import make_server\n",
    "\n",
    "http_server = make_server('127.0.0.1', 1234, WSGIApp)\n",
    "http_server.serve_forever()"
   ]
  }
 ],
 "metadata": {
  "kernelspec": {
   "display_name": "Python 3",
   "language": "python",
   "name": "python3"
  },
  "language_info": {
   "codemirror_mode": {
    "name": "ipython",
    "version": 3
   },
   "file_extension": ".py",
   "mimetype": "text/x-python",
   "name": "python",
   "nbconvert_exporter": "python",
   "pygments_lexer": "ipython3",
   "version": "3.5.2"
  }
 },
 "nbformat": 4,
 "nbformat_minor": 2
}
